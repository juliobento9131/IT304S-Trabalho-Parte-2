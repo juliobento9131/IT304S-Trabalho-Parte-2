{
  "nbformat": 4,
  "nbformat_minor": 0,
  "metadata": {
    "colab": {
      "name": "UC3.ipynb",
      "private_outputs": true,
      "provenance": [],
      "collapsed_sections": [
        "-NThjXMJT6jD",
        "Y2FIImK2UFj-",
        "q_TZAkqqUh5y",
        "JfLXDHQ6eECY",
        "CiPmTJzJegBu",
        "qc5LkP8BemLk",
        "qqkpH3KjgYPv",
        "jbehzwSHg6pA",
        "L_0eIc9ehXGO",
        "zVikixIjhg7_",
        "FJwVOYGuiAIj",
        "U0vtbRzpijNA"
      ],
      "toc_visible": true
    },
    "kernelspec": {
      "display_name": "Python 3",
      "name": "python3"
    },
    "accelerator": "GPU"
  },
  "cells": [
    {
      "cell_type": "markdown",
      "metadata": {
        "id": "Kz-ehtpDomHC"
      },
      "source": [
        "# IT304S: Contratação de Energia para Grandes Consumidores.\r\n",
        "##Prof. Dr. Luiz Carlos Pereira da Silva"
      ]
    },
    {
      "cell_type": "markdown",
      "metadata": {
        "id": "-NThjXMJT6jD"
      },
      "source": [
        "# Definição de ciência de dados "
      ]
    },
    {
      "cell_type": "markdown",
      "metadata": {
        "id": "MwHcKKQ0UBP5"
      },
      "source": [
        "A ciência de dados pode ser definida como um conjunto de técnicas de analise de dados para obter e apresentar informações úteis para um usuario. "
      ]
    },
    {
      "cell_type": "markdown",
      "metadata": {
        "id": "Y2FIImK2UFj-"
      },
      "source": [
        "# Metodologia"
      ]
    },
    {
      "cell_type": "markdown",
      "metadata": {
        "id": "AkfYmDBcUIWw"
      },
      "source": [
        "Uma metodologia muito utilizado para analisar dados é o chamado ``CRISP-DM\", por suas siglas em inglês: Cross-Industry Standard Process for Data Mining. O CRISP-DM tem seis etapas que são:\r\n",
        "\r\n",
        "* **Business Understanding:** Definição dos objetivos, declaração do problema, * * pergunta de interesse.\r\n",
        "* **Data Understanding:** Utilização de nosso conhecimento para coletar os dados.\r\n",
        "* **Data Preparation:** Manipulação de dados para a eliminação de outliers e dados faltantes.\r\n",
        "* **Modeling:** Modelo ou abordagem utilizado para estudar o comportamento de nosso sistema a partir de nossos dados.\r\n",
        "* **Evaluation:** Avaliação dos resultados obtidos, no contexto se são de ajuda para responder nossa pergunta de interesse.\r\n",
        "* **Deployment:** Disponibilizar o análise de dados."
      ]
    },
    {
      "cell_type": "markdown",
      "metadata": {
        "id": "q_TZAkqqUh5y"
      },
      "source": [
        "# Business Understanding"
      ]
    },
    {
      "cell_type": "markdown",
      "metadata": {
        "id": "G33ALa4rUm1h"
      },
      "source": [
        "* **Definição dos objetivos:** O objetivo do presente notebook é apresentar as variaveis disponíveis no banco de dados UFFS.xlsx.\r\n",
        "* **Declaração do problema:** O arquivo UFFS.xlsx, contém as informações disponíveis das planilhas elétricas da UFFS, precisamos de fazer um analize exploratorio dos dados para conhecer os dados disponíveis da UFFS.\r\n",
        "* **Perguntas de Interesse:**\r\n",
        "Há dados faltantes?"
      ]
    },
    {
      "cell_type": "markdown",
      "metadata": {
        "id": "QrFirraKUzp_"
      },
      "source": [
        "# Data Understanding:"
      ]
    },
    {
      "cell_type": "code",
      "metadata": {
        "id": "vaI0l8h2Yy04"
      },
      "source": [
        "from google.colab import drive\n",
        "drive.mount('/content/drive')"
      ],
      "execution_count": null,
      "outputs": []
    },
    {
      "cell_type": "code",
      "metadata": {
        "id": "a_A3CnN_TzVM"
      },
      "source": [
        "!git clone https://github.com/juliobento9131/IT304S_Trabalho_Parte_2.git"
      ],
      "execution_count": null,
      "outputs": []
    },
    {
      "cell_type": "code",
      "metadata": {
        "id": "gngBWtGBU8tf"
      },
      "source": [
        "import pandas as pd"
      ],
      "execution_count": null,
      "outputs": []
    },
    {
      "cell_type": "code",
      "metadata": {
        "id": "iL2qf2RRVNnR"
      },
      "source": [
        "abas_de_excel =  pd.ExcelFile(\"/content/drive/Shareddrives/IT304S - Comercialização de Energia Elétrica para Grandes Clientes/Projeto/Planilhas - Universidades/Grupo 15 - UFFS/Preencher_universidade.xlsx\")\r\n",
        "abas_de_excel.sheet_names"
      ],
      "execution_count": null,
      "outputs": []
    },
    {
      "cell_type": "code",
      "metadata": {
        "id": "KeVAW2jffVaS"
      },
      "source": [
        "UC3 = abas_de_excel.parse(\"UC3\")\r\n",
        "UC3.shape"
      ],
      "execution_count": null,
      "outputs": []
    },
    {
      "cell_type": "code",
      "metadata": {
        "id": "tRxfAAgjfz4M"
      },
      "source": [
        "UC3.head()"
      ],
      "execution_count": null,
      "outputs": []
    },
    {
      "cell_type": "markdown",
      "metadata": {
        "id": "y4cL6aORVllY"
      },
      "source": [
        "# Data Preparation:"
      ]
    },
    {
      "cell_type": "code",
      "metadata": {
        "id": "HaGF6m_1Vasm"
      },
      "source": [
        "import numpy as np"
      ],
      "execution_count": null,
      "outputs": []
    },
    {
      "cell_type": "code",
      "metadata": {
        "id": "BGt6iqPdVp74"
      },
      "source": [
        "np.nan + np.nan"
      ],
      "execution_count": null,
      "outputs": []
    },
    {
      "cell_type": "code",
      "metadata": {
        "id": "UKMxerpIVzKX"
      },
      "source": [
        "np.nan == np.nan"
      ],
      "execution_count": null,
      "outputs": []
    },
    {
      "cell_type": "code",
      "metadata": {
        "id": "rU4cm9IrV6b2"
      },
      "source": [
        "np.isnan(np.nan)"
      ],
      "execution_count": null,
      "outputs": []
    },
    {
      "cell_type": "code",
      "metadata": {
        "id": "VJVmiVo6gTmc"
      },
      "source": [
        "data = []\r\n",
        "for colm in UC3.columns[3:]:\r\n",
        "  data.append([colm, UC3.shape[0]-UC3[colm].apply(np.isnan).sum(), UC3[colm].apply(np.isnan).sum(), (UC3[colm].apply(np.isnan).sum()/87)])\r\n",
        "dados_faltantes = pd.DataFrame(data, columns=[\"Variavel\", \"Quantidade de dados Disponíveis\", \"Quantidade de dados Faltantes\", \"Percentagem de Dados Faltantes\" ])\r\n",
        "dados_faltantes = dados_faltantes[dados_faltantes[\"Quantidade de dados Faltantes\"]>0].sort_values(by=['Quantidade de dados Faltantes'], ascending=False).reset_index(drop=True)\r\n",
        "dados_faltantes['Percentagem de Dados Faltantes'] = dados_faltantes['Percentagem de Dados Faltantes'].astype(float).map(\"{:.2%}\".format)\r\n",
        "dados_faltantes"
      ],
      "execution_count": null,
      "outputs": []
    },
    {
      "cell_type": "markdown",
      "metadata": {
        "id": "R23509PYWKqA"
      },
      "source": [
        "## Visualização de Dados Faltantes"
      ]
    },
    {
      "cell_type": "code",
      "metadata": {
        "id": "0-i8vvg5WFVF"
      },
      "source": [
        "import missingno as msno"
      ],
      "execution_count": null,
      "outputs": []
    },
    {
      "cell_type": "code",
      "metadata": {
        "id": "qxwKvuvJhkVQ"
      },
      "source": [
        "msno.bar(UC3, color=\"RoyalBlue\") #para visualizar a integridade do datafram"
      ],
      "execution_count": null,
      "outputs": []
    },
    {
      "cell_type": "markdown",
      "metadata": {
        "id": "rTeJgbpBWZpI"
      },
      "source": [
        "## Matriz de Dados Faltantes"
      ]
    },
    {
      "cell_type": "code",
      "metadata": {
        "id": "VUHzh6zJiA0d"
      },
      "source": [
        "msno.matrix(UC3, color = (0.25,0.4,0.8))"
      ],
      "execution_count": null,
      "outputs": []
    },
    {
      "cell_type": "markdown",
      "metadata": {
        "id": "DaeXdZdmWuqP"
      },
      "source": [
        "## Matriz de Correlação de Dados Faltantes"
      ]
    },
    {
      "cell_type": "code",
      "metadata": {
        "id": "xOAXd-gGiXl_"
      },
      "source": [
        "msno.heatmap(UC3)"
      ],
      "execution_count": null,
      "outputs": []
    },
    {
      "cell_type": "markdown",
      "metadata": {
        "id": "DeUlGgt_W_3X"
      },
      "source": [
        "### Dendogram de dados Faltantes"
      ]
    },
    {
      "cell_type": "code",
      "metadata": {
        "id": "xrLoOIptiqtP"
      },
      "source": [
        "msno.dendrogram(UC3)"
      ],
      "execution_count": null,
      "outputs": []
    },
    {
      "cell_type": "markdown",
      "metadata": {
        "id": "hoChg3zQXKCY"
      },
      "source": [
        "## Eliminação de colunas com excesso de dados Faltantes"
      ]
    },
    {
      "cell_type": "code",
      "metadata": {
        "id": "BuHnf4KrjXOK"
      },
      "source": [
        "UC3_df = UC3.drop(set(UC3.columns[UC3.isnull().mean() >0.9]), 1)\r\n",
        "UC3_df.shape"
      ],
      "execution_count": null,
      "outputs": []
    },
    {
      "cell_type": "markdown",
      "metadata": {
        "id": "XSdn3alKXlH3"
      },
      "source": [
        "## Visualização de Variaveis"
      ]
    },
    {
      "cell_type": "code",
      "metadata": {
        "id": "dOrrkZu7XX4t"
      },
      "source": [
        "import matplotlib.pyplot as plt\r\n",
        "import seaborn as sns\r\n",
        "sns.set()"
      ],
      "execution_count": null,
      "outputs": []
    },
    {
      "cell_type": "code",
      "metadata": {
        "id": "wSMpz7vLkeFT"
      },
      "source": [
        "f, axs = plt.subplots(5, 5,figsize=(20,20))\r\n",
        "for i,col in enumerate(UC3_df.columns[3:]):\r\n",
        "  plt.subplot(5, 5, i+1)\r\n",
        "  plt.title(col)\r\n",
        "  plt.plot(UC3_df.DATA, UC3_df[col])"
      ],
      "execution_count": null,
      "outputs": []
    },
    {
      "cell_type": "code",
      "metadata": {
        "id": "tZhgVPFln8lU"
      },
      "source": [
        "msno.bar(UC3_df, color=\"RoyalBlue\")"
      ],
      "execution_count": null,
      "outputs": []
    },
    {
      "cell_type": "code",
      "metadata": {
        "id": "L6mNOw19oi2q"
      },
      "source": [
        "msno.matrix(UC3_df, color = (0.25,0.4,0.8))"
      ],
      "execution_count": null,
      "outputs": []
    },
    {
      "cell_type": "markdown",
      "metadata": {
        "id": "SoN0GiN1FFDe"
      },
      "source": [
        "## Tratamento dos dados"
      ]
    },
    {
      "cell_type": "markdown",
      "metadata": {
        "id": "LqKZfdd1EYi3"
      },
      "source": [
        "Tratamento das colunas com dados faltantes da UC3"
      ]
    },
    {
      "cell_type": "code",
      "metadata": {
        "id": "4uzNAX841c5Q"
      },
      "source": [
        "fig, ax = plt.subplots(figsize=(15, 5))\r\n",
        "_ = plt.plot(UC3_df.DATA, UC3_df.PIS_PASEP, marker='o', color=\"b\")\r\n",
        "_ = plt.xlabel(\"Tempo\")\r\n",
        "_ = plt.ylabel(\"%\")\r\n",
        "_ = plt.legend(['Dados Originais'])\r\n",
        "_ = plt.title(\"PIS_PASEP\")\r\n",
        "plt.show()\r\n"
      ],
      "execution_count": null,
      "outputs": []
    },
    {
      "cell_type": "code",
      "metadata": {
        "id": "LXph8OO82469"
      },
      "source": [
        "from fancyimpute import KNN\r\n",
        "from sklearn.impute import SimpleImputer\r\n",
        "UC3_mean = UC3_df.copy(deep= True)\r\n",
        "imputer = SimpleImputer(strategy='mean')\r\n",
        "imputer = imputer.fit(UC3_mean[[\"PIS_PASEP\"]])\r\n",
        "UC3_mean['PIS_PASEP'] = imputer.transform(UC3_mean[['PIS_PASEP']]).ravel()\r\n",
        "sns.set()\r\n",
        "fig, ax = plt.subplots(figsize=(15, 5))\r\n",
        "_ = plt.plot(UC3_mean.DATA, UC3_mean.PIS_PASEP, marker='o', color=\"r\")\r\n",
        "_ = plt.plot(UC3_df.DATA, UC3_df.PIS_PASEP, marker='o', color=\"b\")\r\n",
        "_ = plt.xlabel(\"Tempo\")\r\n",
        "_ = plt.ylabel(\"%\")\r\n",
        "_ = plt.legend(['Dados imputados'])\r\n",
        "_ = plt.title(\"PIS_PASEP\")\r\n",
        "plt.show()"
      ],
      "execution_count": null,
      "outputs": []
    },
    {
      "cell_type": "code",
      "metadata": {
        "id": "ntCGPnul246-"
      },
      "source": [
        "UC3_df = UC3_mean"
      ],
      "execution_count": null,
      "outputs": []
    },
    {
      "cell_type": "code",
      "metadata": {
        "id": "-AfP-KG_5gFM"
      },
      "source": [
        "fig, ax = plt.subplots(figsize=(15, 5))\r\n",
        "_ = plt.plot(UC3_df.DATA, UC3_df.COFINS, marker='o', color=\"b\")\r\n",
        "_ = plt.xlabel(\"Tempo\")\r\n",
        "_ = plt.ylabel(\"%\")\r\n",
        "_ = plt.legend(['Dados Originais'])\r\n",
        "_ = plt.title(\"COFINS\")\r\n",
        "plt.show()\r\n"
      ],
      "execution_count": null,
      "outputs": []
    },
    {
      "cell_type": "code",
      "metadata": {
        "id": "BBpS5hpy5gFW"
      },
      "source": [
        "UC3_mean = UC3_df.copy(deep= True)\r\n",
        "imputer = SimpleImputer(strategy='mean')\r\n",
        "imputer = imputer.fit(UC3_mean[[\"COFINS\"]])\r\n",
        "UC3_mean['COFINS'] = imputer.transform(UC3_mean[['COFINS']]).ravel()\r\n",
        "sns.set()\r\n",
        "fig, ax = plt.subplots(figsize=(15, 5))\r\n",
        "_ = plt.plot(UC3_mean.DATA, UC3_mean.COFINS, marker='o', color=\"r\")\r\n",
        "_ = plt.plot(UC3_df.DATA, UC3_df.COFINS, marker='o', color=\"b\")\r\n",
        "_ = plt.xlabel(\"Tempo\")\r\n",
        "_ = plt.ylabel(\"%\")\r\n",
        "_ = plt.legend(['Dados imputados'])\r\n",
        "_ = plt.title(\"COFINS\")\r\n",
        "plt.show()"
      ],
      "execution_count": null,
      "outputs": []
    },
    {
      "cell_type": "code",
      "metadata": {
        "id": "5rWQIHnK5gFX"
      },
      "source": [
        "UC3_df = UC3_mean"
      ],
      "execution_count": null,
      "outputs": []
    },
    {
      "cell_type": "code",
      "metadata": {
        "id": "Nun6PWLr6UkG"
      },
      "source": [
        "fig, ax = plt.subplots(figsize=(15, 5))\r\n",
        "_ = plt.plot(UC3_df.DATA, UC3_df.VALOR_DA_FATURA, marker='o', color=\"b\")\r\n",
        "_ = plt.xlabel(\"Tempo\")\r\n",
        "_ = plt.ylabel(\"R$\")\r\n",
        "_ = plt.legend(['Dados Originais'])\r\n",
        "_ = plt.title(\"VALOR_DA_FATURA\")\r\n",
        "plt.show()\r\n"
      ],
      "execution_count": null,
      "outputs": []
    },
    {
      "cell_type": "code",
      "metadata": {
        "id": "KvQ9kwaN6UkN"
      },
      "source": [
        "UC3_mean = UC3_df.copy(deep= True)\r\n",
        "imputer = SimpleImputer(strategy='mean')\r\n",
        "imputer = imputer.fit(UC3_mean[[\"VALOR_DA_FATURA\"]])\r\n",
        "UC3_mean['VALOR_DA_FATURA'] = imputer.transform(UC3_mean[['VALOR_DA_FATURA']]).ravel()\r\n",
        "sns.set()\r\n",
        "fig, ax = plt.subplots(figsize=(15, 5))\r\n",
        "_ = plt.plot(UC3_mean.DATA, UC3_mean.VALOR_DA_FATURA, marker='o', color=\"r\")\r\n",
        "_ = plt.plot(UC3_df.DATA, UC3_df.VALOR_DA_FATURA, marker='o', color=\"b\")\r\n",
        "_ = plt.xlabel(\"Tempo\")\r\n",
        "_ = plt.ylabel(\"R$\")\r\n",
        "_ = plt.legend(['Dados imputados'])\r\n",
        "_ = plt.title(\"VALOR_DA_FATURA\")\r\n",
        "plt.show()"
      ],
      "execution_count": null,
      "outputs": []
    },
    {
      "cell_type": "code",
      "metadata": {
        "id": "0Bb-8u7t6UkN"
      },
      "source": [
        "UC3_df = UC3_mean"
      ],
      "execution_count": null,
      "outputs": []
    },
    {
      "cell_type": "code",
      "metadata": {
        "id": "xco0wuos6yht"
      },
      "source": [
        "fig, ax = plt.subplots(figsize=(15, 5))\r\n",
        "_ = plt.plot(UC3_df.DATA, UC3_df.CONSUMO_TOTAL, marker='o', color=\"b\")\r\n",
        "_ = plt.xlabel(\"Tempo\")\r\n",
        "_ = plt.ylabel(\"kWh\")\r\n",
        "_ = plt.legend(['Dados Originais'])\r\n",
        "_ = plt.title(\"CONSUMO_TOTAL\")\r\n",
        "plt.show()\r\n"
      ],
      "execution_count": null,
      "outputs": []
    },
    {
      "cell_type": "code",
      "metadata": {
        "id": "9SkzyjpG6yh5"
      },
      "source": [
        "UC3_mean = UC3_df.copy(deep= True)\r\n",
        "imputer = SimpleImputer(strategy='mean')\r\n",
        "imputer = imputer.fit(UC3_mean[[\"CONSUMO_TOTAL\"]])\r\n",
        "UC3_mean['CONSUMO_TOTAL'] = imputer.transform(UC3_mean[['CONSUMO_TOTAL']]).ravel()\r\n",
        "sns.set()\r\n",
        "fig, ax = plt.subplots(figsize=(15, 5))\r\n",
        "_ = plt.plot(UC3_mean.DATA, UC3_mean.CONSUMO_TOTAL, marker='o', color=\"r\")\r\n",
        "_ = plt.plot(UC3_df.DATA, UC3_df.CONSUMO_TOTAL, marker='o', color=\"b\")\r\n",
        "_ = plt.xlabel(\"Tempo\")\r\n",
        "_ = plt.ylabel(\"kWh\")\r\n",
        "_ = plt.legend(['Dados imputados'])\r\n",
        "_ = plt.title(\"CONSUMO_TOTAL\")\r\n",
        "plt.show()"
      ],
      "execution_count": null,
      "outputs": []
    },
    {
      "cell_type": "code",
      "metadata": {
        "id": "NoywllW26yh6"
      },
      "source": [
        "UC3_df = UC3_mean"
      ],
      "execution_count": null,
      "outputs": []
    },
    {
      "cell_type": "code",
      "metadata": {
        "id": "5hVbf73P0Cpr"
      },
      "source": [
        "msno.matrix(UC3_df, color = (0.25,0.4,0.8))"
      ],
      "execution_count": null,
      "outputs": []
    },
    {
      "cell_type": "code",
      "metadata": {
        "id": "Gpfw7ZNY-R41"
      },
      "source": [
        "fig, ax = plt.subplots(figsize=(15, 5))\r\n",
        "_ = plt.plot(UC3_df.DATA, UC3_df.DEMANDA_REGISTRADA_FP, marker='o', color=\"b\")\r\n",
        "_ = plt.xlabel(\"Tempo\")\r\n",
        "_ = plt.ylabel(\"kW\")\r\n",
        "_ = plt.legend(['Dados Originais'])\r\n",
        "_ = plt.title(\"Demanda Registrada Fora de Ponta\")\r\n",
        "plt.show()\r\n"
      ],
      "execution_count": null,
      "outputs": []
    },
    {
      "cell_type": "code",
      "metadata": {
        "id": "6wIdSJxr9vlX"
      },
      "source": [
        "UC3_bfill = UC3_df.fillna(method='bfill')\r\n",
        "sns.set()\r\n",
        "fig, ax = plt.subplots(figsize=(15, 5))\r\n",
        "_ = plt.plot(UC3_bfill.DATA, UC3_bfill.DEMANDA_REGISTRADA_FP, marker='o', color=\"r\")\r\n",
        "_ = plt.plot(UC3_df.DATA, UC3_df.DEMANDA_REGISTRADA_FP, marker='o', color=\"b\")\r\n",
        "_ = plt.xlabel(\"Tempo\")\r\n",
        "_ = plt.ylabel(\"kW\")\r\n",
        "_ = plt.legend(['Imputações utilizando o método BFILL', 'Dados Originais'])\r\n",
        "_ = plt.title(\"Demanda Registrada Fora de Ponta\")\r\n",
        "plt.show()"
      ],
      "execution_count": null,
      "outputs": []
    },
    {
      "cell_type": "code",
      "metadata": {
        "id": "xSLtD6Ms-qH2"
      },
      "source": [
        "UC3_df = UC3_bfill"
      ],
      "execution_count": null,
      "outputs": []
    },
    {
      "cell_type": "code",
      "metadata": {
        "id": "xeU7Se1x59i0"
      },
      "source": [
        "msno.matrix(UC3_df, color = (0.25,0.4,0.8))"
      ],
      "execution_count": null,
      "outputs": []
    },
    {
      "cell_type": "markdown",
      "metadata": {
        "id": "ohCMPp8qbZiX"
      },
      "source": [
        "## Outliers\r\n",
        "https://en.wikipedia.org/wiki/Pearson_correlation_coefficient"
      ]
    },
    {
      "cell_type": "markdown",
      "metadata": {
        "id": "2TOKh8rsScUV"
      },
      "source": [
        "Matriz de correlação "
      ]
    },
    {
      "cell_type": "code",
      "metadata": {
        "id": "9iBNRgv7IDd0"
      },
      "source": [
        "cor = UC3_df\r\n",
        "pear = round(cor.corr(),2)\r\n",
        "teste = np.array(pear)\r\n",
        "mask = np.zeros_like(pear)\r\n",
        "mask[np.triu_indices_from(mask)] = True\r\n",
        "with sns.axes_style(\"white\"):\r\n",
        "    f, ax = plt.subplots(figsize=(20, 15))\r\n",
        "    ax = sns.heatmap(pear, mask=mask, vmax=1, square=True,center=0,annot=True,annot_kws={\"fontsize\":14}, cmap=\"RdBu\")\r\n",
        "    plt.title('''Pearson's Correlation Heatmap''',fontsize = 20)\r\n",
        "    plt.xticks(fontsize=17,rotation=90)\r\n",
        "    plt.yticks(fontsize=17,rotation=0)\r\n",
        "    cax = plt.gcf().axes[-1] #para alterar fonte do eixo y direito\r\n",
        "    cax.tick_params(labelsize=20) #para alterar fonte do eixo y direito"
      ],
      "execution_count": null,
      "outputs": []
    },
    {
      "cell_type": "code",
      "metadata": {
        "id": "eDSrM-B6IDd1"
      },
      "source": [
        "corr = UC3_df.corr()\r\n",
        "corr.style.background_gradient(cmap='coolwarm').set_precision(2)"
      ],
      "execution_count": null,
      "outputs": []
    },
    {
      "cell_type": "markdown",
      "metadata": {
        "id": "Er6rnwQAb6wR"
      },
      "source": [
        "### Método Z score\r\n",
        "https://en.wikipedia.org/wiki/Standard_score#/media/File:The_Normal_Distribution.svg"
      ]
    },
    {
      "cell_type": "code",
      "metadata": {
        "id": "6o6KvwlDbkhb"
      },
      "source": [
        "def z_score (data, treshold =4):\r\n",
        "  outliers = []\r\n",
        "  treshold = treshold\r\n",
        "  mean, std = np.mean(data), np.std(data)\r\n",
        "  for i in data:\r\n",
        "    zscore = (i-mean)/std\r\n",
        "    if np.abs(zscore) > treshold:\r\n",
        "      outliers.append(i)\r\n",
        "  \r\n",
        "  return outliers"
      ],
      "execution_count": null,
      "outputs": []
    },
    {
      "cell_type": "markdown",
      "metadata": {
        "id": "6uHqIL8hUX_Y"
      },
      "source": [
        "Avaliação de Outliers da UC3"
      ]
    },
    {
      "cell_type": "code",
      "metadata": {
        "id": "5kbILplAKukg"
      },
      "source": [
        "outliers = z_score(UC3_df[[\"PERÍODO\"]].values, 4)\r\n",
        "outliers"
      ],
      "execution_count": null,
      "outputs": []
    },
    {
      "cell_type": "code",
      "metadata": {
        "id": "d8Kef6XpkQCU"
      },
      "source": [
        "f, axs = plt.subplots(5, 5,figsize=(20,20))\r\n",
        "for i,col in enumerate(UC3_df.columns[3:]):\r\n",
        "  plt.subplot(5, 5, i+1)\r\n",
        "  plt.title(col)\r\n",
        "  plt.plot(UC3_df.DATA, UC3_df[col])"
      ],
      "execution_count": null,
      "outputs": []
    },
    {
      "cell_type": "code",
      "metadata": {
        "id": "TpL_L_GTkQCa"
      },
      "source": [
        "print(len(outliers)/len(UC3_df[[\"PERÍODO\"]].values)*100, \"%\")"
      ],
      "execution_count": null,
      "outputs": []
    },
    {
      "cell_type": "code",
      "metadata": {
        "id": "ky3PWaPqkQCb"
      },
      "source": [
        "index_value = UC3_df[[\"PERÍODO\"]][UC3_df[[\"PERÍODO\"]].eq(45).any(1)].index.tolist()[0]\r\n",
        "UC3_df.at[index_value, 'PERÍODO'] = UC3_df.PERÍODO.mode()"
      ],
      "execution_count": null,
      "outputs": []
    },
    {
      "cell_type": "code",
      "metadata": {
        "id": "-25vGm5dkQCb"
      },
      "source": [
        "f, axs = plt.subplots(5, 5,figsize=(20,20))\r\n",
        "for i,col in enumerate(UC3_df.columns[3:]):\r\n",
        "  plt.subplot(5, 5, i+1)\r\n",
        "  plt.title(col)\r\n",
        "  plt.plot(UC3_df.DATA, UC3_df[col])"
      ],
      "execution_count": null,
      "outputs": []
    },
    {
      "cell_type": "code",
      "metadata": {
        "id": "eRV_5jkGbGWC"
      },
      "source": [
        "outliers = z_score(UC3_df[[\"PIS_PASEP\"]].values, 4)\r\n",
        "outliers"
      ],
      "execution_count": null,
      "outputs": []
    },
    {
      "cell_type": "code",
      "metadata": {
        "id": "9pvsjAI8bKCC"
      },
      "source": [
        "outliers = z_score(UC3_df[[\"COFINS\"]].values, 4)\r\n",
        "outliers"
      ],
      "execution_count": null,
      "outputs": []
    },
    {
      "cell_type": "code",
      "metadata": {
        "id": "co8dCKPybi4c"
      },
      "source": [
        "outliers = z_score(UC3_df[[\"DEMANDA_REGISTRADA_FP\"]].values, 4)\r\n",
        "outliers"
      ],
      "execution_count": null,
      "outputs": []
    },
    {
      "cell_type": "code",
      "metadata": {
        "id": "OfS6jdykpPWF"
      },
      "source": [
        "f, axs = plt.subplots(5, 5,figsize=(20,20))\r\n",
        "for i,col in enumerate(UC3_df.columns[3:]):\r\n",
        "  plt.subplot(5, 5, i+1)\r\n",
        "  plt.title(col)\r\n",
        "  plt.plot(UC3_df.DATA, UC3_df[col])"
      ],
      "execution_count": null,
      "outputs": []
    },
    {
      "cell_type": "code",
      "metadata": {
        "id": "AK9S1nm0pPWL"
      },
      "source": [
        "print(len(outliers)/len(UC3_df[[\"DEMANDA_REGISTRADA_FP\"]].values)*100, \"%\")"
      ],
      "execution_count": null,
      "outputs": []
    },
    {
      "cell_type": "code",
      "metadata": {
        "id": "yec4UyCXpPWM"
      },
      "source": [
        "index_value = UC3_df[[\"DEMANDA_REGISTRADA_FP\"]][UC3_df[[\"DEMANDA_REGISTRADA_FP\"]].eq(124.8).any(1)].index.tolist()[0]\r\n",
        "UC3_df.at[index_value, 'DEMANDA_REGISTRADA_FP'] = UC3_df.DEMANDA_REGISTRADA_FP.mode()"
      ],
      "execution_count": null,
      "outputs": []
    },
    {
      "cell_type": "code",
      "metadata": {
        "id": "0Qcimnn6pPWN"
      },
      "source": [
        "f, axs = plt.subplots(5, 5,figsize=(20,20))\r\n",
        "for i,col in enumerate(UC3_df.columns[3:]):\r\n",
        "  plt.subplot(5, 5, i+1)\r\n",
        "  plt.title(col)\r\n",
        "  plt.plot(UC3_df.DATA, UC3_df[col])"
      ],
      "execution_count": null,
      "outputs": []
    },
    {
      "cell_type": "code",
      "metadata": {
        "id": "H_m7nbn-b3aS"
      },
      "source": [
        "outliers = z_score(UC3_df[[\"TAR_TUSD_KW_FP\"]].values, 4)\r\n",
        "outliers"
      ],
      "execution_count": null,
      "outputs": []
    },
    {
      "cell_type": "code",
      "metadata": {
        "id": "try04w_8cv9Q"
      },
      "source": [
        "outliers = z_score(UC3_df[[\"ENERGIA_PONTA\"]].values, 4)\r\n",
        "outliers"
      ],
      "execution_count": null,
      "outputs": []
    },
    {
      "cell_type": "code",
      "metadata": {
        "id": "r0Dlee69pwuO"
      },
      "source": [
        "f, axs = plt.subplots(5, 5,figsize=(20,20))\r\n",
        "for i,col in enumerate(UC3_df.columns[3:]):\r\n",
        "  plt.subplot(5, 5, i+1)\r\n",
        "  plt.title(col)\r\n",
        "  plt.plot(UC3_df.DATA, UC3_df[col])"
      ],
      "execution_count": null,
      "outputs": []
    },
    {
      "cell_type": "code",
      "metadata": {
        "id": "nbtStQt_pwuT"
      },
      "source": [
        "print(len(outliers)/len(UC3_df[[\"ENERGIA_PONTA\"]].values)*100, \"%\")"
      ],
      "execution_count": null,
      "outputs": []
    },
    {
      "cell_type": "code",
      "metadata": {
        "id": "W1P4SMj7pwuU"
      },
      "source": [
        "index_value = UC3_df[[\"ENERGIA_PONTA\"]][UC3_df[[\"ENERGIA_PONTA\"]].eq(2974.8).any(1)].index.tolist()[0]\r\n",
        "UC3_df.at[index_value, 'ENERGIA_PONTA'] = UC3_df.ENERGIA_PONTA.mode()"
      ],
      "execution_count": null,
      "outputs": []
    },
    {
      "cell_type": "code",
      "metadata": {
        "id": "xBJLc1XhpwuU"
      },
      "source": [
        "f, axs = plt.subplots(5, 5,figsize=(20,20))\r\n",
        "for i,col in enumerate(UC3_df.columns[3:]):\r\n",
        "  plt.subplot(5, 5, i+1)\r\n",
        "  plt.title(col)\r\n",
        "  plt.plot(UC3_df.DATA, UC3_df[col])"
      ],
      "execution_count": null,
      "outputs": []
    },
    {
      "cell_type": "code",
      "metadata": {
        "id": "xvbTC7zycnv0"
      },
      "source": [
        "outliers = z_score(UC3_df[[\"ENERGIA_FPONTA\"]].values, 4)\r\n",
        "outliers"
      ],
      "execution_count": null,
      "outputs": []
    },
    {
      "cell_type": "code",
      "metadata": {
        "id": "kvM61PdKqP9l"
      },
      "source": [
        "f, axs = plt.subplots(5, 5,figsize=(20,20))\r\n",
        "for i,col in enumerate(UC3_df.columns[3:]):\r\n",
        "  plt.subplot(5, 5, i+1)\r\n",
        "  plt.title(col)\r\n",
        "  plt.plot(UC3_df.DATA, UC3_df[col])"
      ],
      "execution_count": null,
      "outputs": []
    },
    {
      "cell_type": "code",
      "metadata": {
        "id": "8H-c8DaBqP9x"
      },
      "source": [
        "print(len(outliers)/len(UC3_df[[\"ENERGIA_FPONTA\"]].values)*100, \"%\")"
      ],
      "execution_count": null,
      "outputs": []
    },
    {
      "cell_type": "code",
      "metadata": {
        "id": "csnIzHTgqP9x"
      },
      "source": [
        "index_value = UC3_df[[\"ENERGIA_FPONTA\"]][UC3_df[[\"ENERGIA_FPONTA\"]].eq(9364.08).any(1)].index.tolist()[0]\r\n",
        "UC3_df.at[index_value, 'ENERGIA_FPONTA'] = UC3_df.ENERGIA_FPONTA.mode()"
      ],
      "execution_count": null,
      "outputs": []
    },
    {
      "cell_type": "code",
      "metadata": {
        "id": "XdFJ6uoJqP9x"
      },
      "source": [
        "f, axs = plt.subplots(5, 5,figsize=(20,20))\r\n",
        "for i,col in enumerate(UC3_df.columns[3:]):\r\n",
        "  plt.subplot(5, 5, i+1)\r\n",
        "  plt.title(col)\r\n",
        "  plt.plot(UC3_df.DATA, UC3_df[col])"
      ],
      "execution_count": null,
      "outputs": []
    },
    {
      "cell_type": "code",
      "metadata": {
        "id": "oRDr2dUxc9p3"
      },
      "source": [
        "outliers = z_score(UC3_df[[\"TAR_TUSD_KWH_P\"]].values, 4)\r\n",
        "outliers"
      ],
      "execution_count": null,
      "outputs": []
    },
    {
      "cell_type": "code",
      "metadata": {
        "id": "0WDYK4hic42H"
      },
      "source": [
        "outliers = z_score(UC3_df[[\"TAR_TUSD_KWH_FP\"]].values, 4)\r\n",
        "outliers"
      ],
      "execution_count": null,
      "outputs": []
    },
    {
      "cell_type": "code",
      "metadata": {
        "id": "sBY-DDF4lOWW"
      },
      "source": [
        "outliers = z_score(UC3_df[[\"TAR_TE_KWH_P\"]].values, 4)\r\n",
        "outliers"
      ],
      "execution_count": null,
      "outputs": []
    },
    {
      "cell_type": "code",
      "metadata": {
        "id": "Pih7f_vHdrcV"
      },
      "source": [
        "outliers = z_score(UC3_df[[\"TAR_TE_KWH_FP\"]].values, 4)\r\n",
        "outliers"
      ],
      "execution_count": null,
      "outputs": []
    },
    {
      "cell_type": "code",
      "metadata": {
        "id": "UO7zGfZqlZXy"
      },
      "source": [
        "outliers = z_score(UC3_df[[\"REAT_KVAR_FPONTA\"]].values, 4)\r\n",
        "outliers"
      ],
      "execution_count": null,
      "outputs": []
    },
    {
      "cell_type": "code",
      "metadata": {
        "id": "kVxhJBQgqsZ1"
      },
      "source": [
        "f, axs = plt.subplots(5, 5,figsize=(20,20))\r\n",
        "for i,col in enumerate(UC3_df.columns[3:]):\r\n",
        "  plt.subplot(5, 5, i+1)\r\n",
        "  plt.title(col)\r\n",
        "  plt.plot(UC3_df.DATA, UC3_df[col])"
      ],
      "execution_count": null,
      "outputs": []
    },
    {
      "cell_type": "code",
      "metadata": {
        "id": "S3jM7szGqsZ5"
      },
      "source": [
        "print(len(outliers)/len(UC3_df[[\"REAT_KVAR_FPONTA\"]].values)*100, \"%\")"
      ],
      "execution_count": null,
      "outputs": []
    },
    {
      "cell_type": "code",
      "metadata": {
        "id": "M-wI1fnIqsZ6"
      },
      "source": [
        "index_value = UC3_df[[\"REAT_KVAR_FPONTA\"]][UC3_df[[\"REAT_KVAR_FPONTA\"]].eq(0.738).any(1)].index.tolist()[0]\r\n",
        "UC3_df.at[index_value, 'REAT_KVAR_FPONTA'] = UC3_df.REAT_KVAR_FPONTA.mode()"
      ],
      "execution_count": null,
      "outputs": []
    },
    {
      "cell_type": "code",
      "metadata": {
        "id": "LO6X2sHrqsZ6"
      },
      "source": [
        "f, axs = plt.subplots(5, 5,figsize=(20,20))\r\n",
        "for i,col in enumerate(UC3_df.columns[3:]):\r\n",
        "  plt.subplot(5, 5, i+1)\r\n",
        "  plt.title(col)\r\n",
        "  plt.plot(UC3_df.DATA, UC3_df[col])"
      ],
      "execution_count": null,
      "outputs": []
    },
    {
      "cell_type": "code",
      "metadata": {
        "id": "uAGLQarndFGK"
      },
      "source": [
        "outliers = z_score(UC3_df[[\"TAR_REAT_PONTA\"]].values, 4)\r\n",
        "outliers"
      ],
      "execution_count": null,
      "outputs": []
    },
    {
      "cell_type": "code",
      "metadata": {
        "id": "HPsd3ISldFGK"
      },
      "source": [
        "outliers = z_score(UC3_df[[\"TAR_REAT_FPONTA\"]].values, 4)\r\n",
        "outliers"
      ],
      "execution_count": null,
      "outputs": []
    },
    {
      "cell_type": "code",
      "metadata": {
        "id": "arM9NKpOdrcV"
      },
      "source": [
        "outliers = z_score(UC3_df[[\"VALOR_DA_FATURA\"]].values, 4)\r\n",
        "outliers"
      ],
      "execution_count": null,
      "outputs": []
    },
    {
      "cell_type": "code",
      "metadata": {
        "id": "s8NMazTar_Je"
      },
      "source": [
        "outliers = z_score(UC3_df[[\"CONSUMO_TOTAL\"]].values, 4)\r\n",
        "outliers"
      ],
      "execution_count": null,
      "outputs": []
    },
    {
      "cell_type": "code",
      "metadata": {
        "id": "olsy0lnxsFPz"
      },
      "source": [
        "outliers = z_score(UC3_df[[\"ACRESCIMO_BAMAR\"]].values, 4)\r\n",
        "outliers"
      ],
      "execution_count": null,
      "outputs": []
    },
    {
      "cell_type": "code",
      "metadata": {
        "id": "adD3TrWnsNOg"
      },
      "source": [
        "outliers = z_score(UC3_df[[\"ACRESCIMO_BVERM1\"]].values, 4)\r\n",
        "outliers"
      ],
      "execution_count": null,
      "outputs": []
    },
    {
      "cell_type": "code",
      "metadata": {
        "id": "GRe1lQTGrMJp"
      },
      "source": [
        "f, axs = plt.subplots(5, 5,figsize=(20,20))\r\n",
        "for i,col in enumerate(UC3_df.columns[3:]):\r\n",
        "  plt.subplot(5, 5, i+1)\r\n",
        "  plt.title(col)\r\n",
        "  plt.plot(UC3_df.DATA, UC3_df[col])"
      ],
      "execution_count": null,
      "outputs": []
    },
    {
      "cell_type": "code",
      "metadata": {
        "id": "EY4bclqDrMJt"
      },
      "source": [
        "print(len(outliers)/len(UC3_df[[\"ACRESCIMO_BVERM1\"]].values)*100, \"%\")"
      ],
      "execution_count": null,
      "outputs": []
    },
    {
      "cell_type": "code",
      "metadata": {
        "id": "oAKaNF1FrMJu"
      },
      "source": [
        "index_value = UC3_df[[\"ACRESCIMO_BVERM1\"]][UC3_df[[\"ACRESCIMO_BVERM1\"]].eq(888.11).any(1)].index.tolist()[0]\r\n",
        "UC3_df.at[index_value, 'ACRESCIMO_BVERM1'] = UC3_df.ACRESCIMO_BVERM1.mode()"
      ],
      "execution_count": null,
      "outputs": []
    },
    {
      "cell_type": "code",
      "metadata": {
        "id": "28GQa5sFrMJu"
      },
      "source": [
        "f, axs = plt.subplots(5, 5,figsize=(20,20))\r\n",
        "for i,col in enumerate(UC3_df.columns[3:]):\r\n",
        "  plt.subplot(5, 5, i+1)\r\n",
        "  plt.title(col)\r\n",
        "  plt.plot(UC3_df.DATA, UC3_df[col])"
      ],
      "execution_count": null,
      "outputs": []
    },
    {
      "cell_type": "markdown",
      "metadata": {
        "id": "JfLXDHQ6eECY"
      },
      "source": [
        "## Matriz de Correlação de Dados sem outlier"
      ]
    },
    {
      "cell_type": "code",
      "metadata": {
        "id": "z1k1Q0r0d4Vq"
      },
      "source": [
        "cor = UC3_df\r\n",
        "pear = round(cor.corr(),2)\r\n",
        "teste = np.array(pear)\r\n",
        "mask = np.zeros_like(pear)\r\n",
        "mask[np.triu_indices_from(mask)] = True\r\n",
        "with sns.axes_style(\"white\"):\r\n",
        "    f, ax = plt.subplots(figsize=(20, 15))\r\n",
        "    ax = sns.heatmap(pear, mask=mask, vmax=1, square=True,center=0,annot=True,annot_kws={\"fontsize\":14}, cmap=\"RdBu\")\r\n",
        "    plt.title('''Pearson's Correlation Heatmap''',fontsize = 20)\r\n",
        "    plt.xticks(fontsize=17,rotation=90)\r\n",
        "    plt.yticks(fontsize=17,rotation=0)\r\n",
        "    cax = plt.gcf().axes[-1] #para alterar fonte do eixo y direito\r\n",
        "    cax.tick_params(labelsize=20) #para alterar fonte do eixo y direito"
      ],
      "execution_count": null,
      "outputs": []
    },
    {
      "cell_type": "markdown",
      "metadata": {
        "id": "CiPmTJzJegBu"
      },
      "source": [
        "## Exemplo de Diagrama de Dispersão de Variaveis não Correlacionadas e Correlacionadas"
      ]
    },
    {
      "cell_type": "code",
      "metadata": {
        "id": "s5pgnjXdeHQy"
      },
      "source": [
        "fig, ax = plt.subplots(figsize=(16,8))\r\n",
        "ax.scatter(UC3_df[\"REAT_KVAR_FPONTA\"], UC3_df[\"TAR_REAT_FPONTA\"])\r\n",
        "ax.set_xlabel('REAT_KVAR_FPONTA')\r\n",
        "ax.set_ylabel('TAR_REAT_FPONTA')\r\n",
        "plt.show()"
      ],
      "execution_count": null,
      "outputs": []
    },
    {
      "cell_type": "code",
      "metadata": {
        "id": "2QFiDlj4eTyB"
      },
      "source": [
        "fig, ax = plt.subplots(figsize=(16,8))\r\n",
        "ax.scatter(UC3_df[\"VALOR_DA_FATURA\"], UC3_df[\"CONSUMO_TOTAL\"])\r\n",
        "ax.set_xlabel('Valor da Fatura')\r\n",
        "ax.set_ylabel('Consumo Total')\r\n",
        "plt.show()"
      ],
      "execution_count": null,
      "outputs": []
    },
    {
      "cell_type": "markdown",
      "metadata": {
        "id": "u1TT002M8VDJ"
      },
      "source": [
        "# Exportação para csv"
      ]
    },
    {
      "cell_type": "code",
      "metadata": {
        "id": "puRa4SlOc0F4"
      },
      "source": [
        "#import glob\r\n",
        "#from google.colab import files"
      ],
      "execution_count": null,
      "outputs": []
    },
    {
      "cell_type": "code",
      "metadata": {
        "id": "Sw_PFwQnbTDk"
      },
      "source": [
        "#UC3_df.to_csv('uc3.csv')\r\n",
        "#files.download('uc3.csv')"
      ],
      "execution_count": null,
      "outputs": []
    },
    {
      "cell_type": "markdown",
      "metadata": {
        "id": "zcc1m5lLbBkC"
      },
      "source": [
        "# Modeling"
      ]
    },
    {
      "cell_type": "code",
      "metadata": {
        "id": "p0yn9RrZbBkD"
      },
      "source": [
        "df_train = UC3_df[\"CONSUMO_TOTAL\"].iloc[:75]\r\n",
        "df_test = UC3_df[\"CONSUMO_TOTAL\"].iloc[75:]"
      ],
      "execution_count": null,
      "outputs": []
    },
    {
      "cell_type": "code",
      "metadata": {
        "id": "tMP0prPVbBkD"
      },
      "source": [
        "fig, ax = plt.subplots(figsize=(15, 5))\r\n",
        "_ = plt.plot(df_test, marker='o', color=\"r\")\r\n",
        "_ = plt.plot(df_train, marker='o', color=\"b\")\r\n",
        "_ = plt.xlabel(\"Tempo\")\r\n",
        "_ = plt.ylabel(\"KVAR\")\r\n",
        "_ = plt.legend([ 'Dados de Test', 'Dados de Treino'])\r\n",
        "_ = plt.title(\"Consumo Total\")\r\n",
        "plt.show()"
      ],
      "execution_count": null,
      "outputs": []
    },
    {
      "cell_type": "code",
      "metadata": {
        "id": "gW9zzFqFbBkD"
      },
      "source": [
        "! pip install pmdarima"
      ],
      "execution_count": null,
      "outputs": []
    },
    {
      "cell_type": "code",
      "metadata": {
        "id": "upln-EV2bBkD"
      },
      "source": [
        "fig, ax = plt.subplots(figsize=(15, 5))\r\n",
        "_ = plt.plot(df_test, marker='o', color=\"r\")\r\n",
        "_ = plt.plot(df_train, marker='o', color=\"b\")\r\n",
        "_ = plt.xlabel(\"Tempo\")\r\n",
        "_ = plt.ylabel(\"KVAR\")\r\n",
        "_ = plt.legend([ 'Dados de Test', 'Dados de Treino'])\r\n",
        "_ = plt.title(\"Consumo Total\")\r\n",
        "plt.show()"
      ],
      "execution_count": null,
      "outputs": []
    },
    {
      "cell_type": "code",
      "metadata": {
        "id": "t5BmUb00bBkD"
      },
      "source": [
        "from pmdarima.arima import ADFTest"
      ],
      "execution_count": null,
      "outputs": []
    },
    {
      "cell_type": "code",
      "metadata": {
        "id": "IfcTxGoJbVHs"
      },
      "source": [
        "from pmdarima.arima import auto_arima"
      ],
      "execution_count": null,
      "outputs": []
    },
    {
      "cell_type": "code",
      "metadata": {
        "id": "NshQ6y7ibBkE"
      },
      "source": [
        "adf_test = ADFTest(alpha=0.05)"
      ],
      "execution_count": null,
      "outputs": []
    },
    {
      "cell_type": "code",
      "metadata": {
        "id": "ScHX8o8ubBkE"
      },
      "source": [
        "adf_test.should_diff(df_train)"
      ],
      "execution_count": null,
      "outputs": []
    },
    {
      "cell_type": "code",
      "metadata": {
        "id": "YsECNjF4bBkE"
      },
      "source": [
        "arima_model = auto_arima(df_train, start_p=0, d=1, start_q=0, max_p=5, max_d=5, max_q=5, start_P=0, D=1, start_Q=0, max_P = 5, max_D = 5, max_Q=5, m=12, seasonal = True, error_action = 'warn', trace = True, supress_warning = True, stepwise = True, random_state= 20, nfits = 50)"
      ],
      "execution_count": null,
      "outputs": []
    },
    {
      "cell_type": "code",
      "metadata": {
        "id": "rnxGX-gPbBkE"
      },
      "source": [
        "arima_model.summary()"
      ],
      "execution_count": null,
      "outputs": []
    },
    {
      "cell_type": "code",
      "metadata": {
        "id": "10BvoJeUbBkE"
      },
      "source": [
        "predicoes = pd.DataFrame(arima_model.predict(n_periods = 12), index =df_test.index)\r\n",
        "predicoes.columns = ['predicoes']"
      ],
      "execution_count": null,
      "outputs": []
    },
    {
      "cell_type": "code",
      "metadata": {
        "id": "RTN4awfVbBkF"
      },
      "source": [
        "fig, ax = plt.subplots(figsize=(15, 5))\r\n",
        "_ = plt.plot(df_test, marker='o', color=\"r\")\r\n",
        "_ = plt.plot(df_train, marker='o', color=\"b\")\r\n",
        "_ = plt.plot(predicoes, marker='o', color=\"g\")\r\n",
        "_ = plt.xlabel(\"Tempo\")\r\n",
        "_ = plt.ylabel(\"KWH\")\r\n",
        "_ = plt.legend([ 'Dados de Test', 'Dados de Treino', 'Previsões'])\r\n",
        "_ = plt.title(\"Consumo Total\")\r\n",
        "plt.show()"
      ],
      "execution_count": null,
      "outputs": []
    },
    {
      "cell_type": "markdown",
      "metadata": {
        "id": "nR7Icx3JbBkF"
      },
      "source": [
        "# Avaliação"
      ]
    },
    {
      "cell_type": "markdown",
      "metadata": {
        "id": "EP7MAC6CbBkF"
      },
      "source": [
        "$R M S E=\\sqrt{\\sum_{i=1}^{n} \\frac{\\left(\\hat{y}_{i}-y_{i}\\right)^{2}}{n}}$"
      ]
    },
    {
      "cell_type": "code",
      "metadata": {
        "id": "FF-n2VjMbBkF"
      },
      "source": [
        "def RMSE(yh, y):\r\n",
        "  er = yh - y\r\n",
        "  RMSE = sum(er*er/len(er))**0.5\r\n",
        "  return RMSE"
      ],
      "execution_count": null,
      "outputs": []
    },
    {
      "cell_type": "code",
      "metadata": {
        "id": "bphiBShzbBkF"
      },
      "source": [
        "np.mean(RMSE(df_test.values, predicoes.values))"
      ],
      "execution_count": null,
      "outputs": []
    },
    {
      "cell_type": "markdown",
      "metadata": {
        "id": "OExy1BMibBkG"
      },
      "source": [
        "# Resultado Banco de dados com imputações"
      ]
    },
    {
      "cell_type": "code",
      "metadata": {
        "id": "OT4XYQwBbBkG"
      },
      "source": [
        "UC3_df.describe()"
      ],
      "execution_count": null,
      "outputs": []
    },
    {
      "cell_type": "code",
      "metadata": {
        "id": "0Z0m2dn4bBkG"
      },
      "source": [
        "UC3_df.info()"
      ],
      "execution_count": null,
      "outputs": []
    },
    {
      "cell_type": "code",
      "metadata": {
        "id": "PLcNdzjkbBkG"
      },
      "source": [
        "f, axs = plt.subplots(5, 5,figsize=(20,30))\r\n",
        "for i,col in enumerate(UC3_df.columns[3:]):\r\n",
        "  plt.subplot(5, 5, i+1)\r\n",
        "  sns.boxplot(x=UC3_df[col])"
      ],
      "execution_count": null,
      "outputs": []
    },
    {
      "cell_type": "code",
      "metadata": {
        "id": "Hq50-leHbBkG"
      },
      "source": [
        "f, axs = plt.subplots(5, 5,figsize=(20,20))\r\n",
        "for i,col in enumerate(UC3_df.columns[3:]):\r\n",
        "  plt.subplot(5, 5, i+1)\r\n",
        "  plt.title(col)\r\n",
        "  plt.plot(UC3_df.DATA, UC3_df[col])"
      ],
      "execution_count": null,
      "outputs": []
    },
    {
      "cell_type": "code",
      "metadata": {
        "id": "2g7NoRkAbBkH"
      },
      "source": [
        "fig = plt.figure(figsize = (15,20))\r\n",
        "ax = fig.gca()\r\n",
        "UC3_df.hist(ax = ax);"
      ],
      "execution_count": null,
      "outputs": []
    },
    {
      "cell_type": "code",
      "metadata": {
        "id": "brvPmOf3bBkH"
      },
      "source": [
        "UC3_df.to_csv(r'UC3.csv', index = False)"
      ],
      "execution_count": null,
      "outputs": []
    },
    {
      "cell_type": "code",
      "metadata": {
        "id": "claeo8bVbBkH"
      },
      "source": [
        "#sns.pairplot(UC3_df[3:], palette='bwr')"
      ],
      "execution_count": null,
      "outputs": []
    }
  ]
}